{
 "cells": [
  {
   "cell_type": "code",
   "execution_count": 78,
   "id": "c48c3a15",
   "metadata": {},
   "outputs": [],
   "source": [
    "import sys\n",
    "class Bank_App():\n",
    "    def __init__(self):\n",
    "         # Initializes new user account balance\n",
    "        self.balance = 0.0\n",
    "        # input('Enter your account number: ')\n",
    "        # input('Enter pin: ')             \n",
    "        \n",
    "        print(\"Welcome! Please select what you would like to do:\")\n",
    "        print(\">>> 1. Balance\")\n",
    "        print(\">>> 2. Deposit\")\n",
    "        print(\">>> 3. Withdrawal\")\n",
    "        print(\">>> 4. Transfer\")\n",
    "        print(\">>> 5. Exit\")\n",
    "        print(\"\")\n",
    "        \n",
    "        choice = int(input(''))\n",
    "        \n",
    "        if choice == 1:\n",
    "            Bank_App.Get_Balance(self)\n",
    "        elif choice == 2:\n",
    "            Bank_App.deposit(self)\n",
    "        elif choice == 3:\n",
    "            Bank_App.withdraw(self)\n",
    "        elif choice == 4:\n",
    "            Bank_App.transfer(self)\n",
    "        elif choice == 5:\n",
    "            print('Thank you for banking with us. Goodbye!')\n",
    "        else:\n",
    "            print('Invalid request!, please try again')\n",
    "    \n",
    "    def deposit(self):\n",
    "        depo = float(input('Enter deposit amount: '))\n",
    "        self.balance += depo\n",
    "        print(f\"Account successfully updated with NGN{depo:,}\")\n",
    "        print(f\"Available balance: NGN{self.balance:,}\")\n",
    "    \n",
    "    def Get_Balance(self):\n",
    "        print(f\"Available balance: NGN{self.balance:,}\")\n",
    "        \n",
    "    def withdraw(self):\n",
    "        withdrawal = float(input('Enter amount: '))\n",
    "        if withdrawal > self.balance:\n",
    "            print('Insufficient funds')\n",
    "            print(f\"Available balance: NGN{self.balance:,}\")\n",
    "        else:\n",
    "            self.balance = self.balance - withdrawal\n",
    "            print(f\"NGN{withdrawal:,} withdrawal successful\")\n",
    "            print(f\"Available balance: NGN{self.balance:,}\")\n",
    "    \n",
    "    def transfer(self):\n",
    "        for trial in range(4):\n",
    "            if trial == 3: # Validate no of attempts\n",
    "                print('Maximum attempts reached, logging off...')\n",
    "                sys.exit()\n",
    "                \n",
    "    \n",
    "            acc_num = (input('Enter destination account number: '))\n",
    "            if len(acc_num) == 10:\n",
    "                break\n",
    "            else:\n",
    "                print('Invalid account destination')\n",
    "            \n",
    "        trans = float(input('Enter amount: '))\n",
    "        if self.balance < trans:\n",
    "            print('Insufficient funds')\n",
    "            print(f\"Available balance: NGN{self.balance:,}\")\n",
    "            \n",
    "        else:\n",
    "            self.balance = self.balance - trans\n",
    "            print(f\"NGN{trans:,} transfer successful\")\n",
    "            print(f\"Available balance: NGN{self.balance:,}\")\n",
    "            "
   ]
  },
  {
   "cell_type": "code",
   "execution_count": null,
   "id": "912192d3",
   "metadata": {},
   "outputs": [],
   "source": []
  },
  {
   "cell_type": "code",
   "execution_count": 65,
   "id": "7a8f6974",
   "metadata": {},
   "outputs": [
    {
     "name": "stdout",
     "output_type": "stream",
     "text": [
      "Welcome! Please select what you would like to do:\n",
      ">>> 1. Balance\n",
      ">>> 2. Deposit\n",
      ">>> 3. Withdrawal\n",
      ">>> 4. Transfer\n",
      ">>> 5. Exit\n",
      "\n",
      "5\n",
      "Thank you for banking with us. Goodbye!\n",
      "Enter deposit amount: 5600007\n",
      "Account successfully updated with NGN5,600,007.0\n",
      "Available balance: NGN5,600,007.0\n"
     ]
    }
   ],
   "source": [
    "user = Bank_App()\n",
    "user.deposit()"
   ]
  },
  {
   "cell_type": "code",
   "execution_count": 82,
   "id": "11334696",
   "metadata": {},
   "outputs": [
    {
     "name": "stdout",
     "output_type": "stream",
     "text": [
      "Enter destination account number: 0989768546\n",
      "Enter amount: 2000003\n",
      "NGN2,000,003.0 transfer successful\n",
      "Available balance: NGN82,645,847.0\n"
     ]
    }
   ],
   "source": [
    "user.transfer()"
   ]
  },
  {
   "cell_type": "code",
   "execution_count": 70,
   "id": "1484d9a5",
   "metadata": {},
   "outputs": [
    {
     "name": "stdout",
     "output_type": "stream",
     "text": [
      "Enter deposit amount: 30056798\n",
      "Account successfully updated with NGN30,056,798.0\n",
      "Available balance: NGN45,146,850.0\n"
     ]
    }
   ],
   "source": [
    "user.deposit()"
   ]
  },
  {
   "cell_type": "code",
   "execution_count": 71,
   "id": "6d69b9c0",
   "metadata": {},
   "outputs": [
    {
     "data": {
      "text/plain": [
       "'Available balance: NGN45,146,850.0'"
      ]
     },
     "execution_count": 71,
     "metadata": {},
     "output_type": "execute_result"
    }
   ],
   "source": [
    "user.Get_Balance()"
   ]
  },
  {
   "cell_type": "code",
   "execution_count": 74,
   "id": "b28244c3",
   "metadata": {},
   "outputs": [
    {
     "name": "stdout",
     "output_type": "stream",
     "text": [
      "Enter amount: 50000000\n",
      "Insufficient funds\n",
      "Available balance: NGN44,646,850.0\n"
     ]
    }
   ],
   "source": [
    "user.withdraw()"
   ]
  },
  {
   "cell_type": "code",
   "execution_count": 75,
   "id": "81622dac",
   "metadata": {},
   "outputs": [
    {
     "name": "stdout",
     "output_type": "stream",
     "text": [
      "Enter deposit amount: 100000000\n",
      "Account successfully updated with NGN100,000,000.0\n",
      "Available balance: NGN144,646,850.0\n"
     ]
    }
   ],
   "source": [
    "user.deposit()"
   ]
  },
  {
   "cell_type": "code",
   "execution_count": 76,
   "id": "46857f47",
   "metadata": {},
   "outputs": [
    {
     "name": "stdout",
     "output_type": "stream",
     "text": [
      "Enter amount: 40000000\n",
      "NGN40,000,000.0 withdrawal successful\n",
      "Available balance: NGN104,646,850.0\n"
     ]
    }
   ],
   "source": [
    "user.withdraw()"
   ]
  },
  {
   "cell_type": "code",
   "execution_count": 81,
   "id": "bd7acb01",
   "metadata": {},
   "outputs": [
    {
     "name": "stdout",
     "output_type": "stream",
     "text": [
      "Enter destination account number: 00000\n",
      "Invalid account destination\n",
      "Enter destination account number: 0002356798\n",
      "Enter amount: 1000\n",
      "NGN1,000.0 transfer successful\n",
      "Available balance: NGN84,645,850.0\n"
     ]
    }
   ],
   "source": [
    "user.transfer()"
   ]
  }
 ],
 "metadata": {
  "kernelspec": {
   "display_name": "Python 3 (ipykernel)",
   "language": "python",
   "name": "python3"
  },
  "language_info": {
   "codemirror_mode": {
    "name": "ipython",
    "version": 3
   },
   "file_extension": ".py",
   "mimetype": "text/x-python",
   "name": "python",
   "nbconvert_exporter": "python",
   "pygments_lexer": "ipython3",
   "version": "3.11.5"
  }
 },
 "nbformat": 4,
 "nbformat_minor": 5
}
