{
 "cells": [
  {
   "cell_type": "code",
   "execution_count": 20,
   "id": "c48c3a15",
   "metadata": {},
   "outputs": [],
   "source": [
    "import sys\n",
    "class Bank_App():\n",
    "    def __init__(self):\n",
    "         # Initializes new user account balance\n",
    "        self.balance = 0.0\n",
    "        input('Enter your account number: ')\n",
    "        # input('Enter pin: ')\n",
    "        \n",
    "        print(\"Welcome! Please select what you would like to do:\")\n",
    "        print(\">>> 1. Balance\")\n",
    "        print(\">>> 2. Deposit\")\n",
    "        print(\">>> 3. Withdrawal\")\n",
    "        print(\">>> 4. Transfer\")\n",
    "        print(\">>> 5. Exit\")\n",
    "        print(\"\")\n",
    "        \n",
    "        choice = int(input(''))\n",
    "        \n",
    "        if choice == 1:\n",
    "            Bank_App.Get_Balance(self)\n",
    "        elif choice == 2:\n",
    "            Bank_App.deposit(self)\n",
    "        elif choice == 3:\n",
    "            Bank_App.withdraw(self)\n",
    "        elif choice == 4:\n",
    "            Bank_App.transfer(self)\n",
    "        elif choice == 5:\n",
    "            print('Thank you for banking with us. Goodbye!')\n",
    "        else:\n",
    "            print('Invalid request!, please try again')\n",
    "        \n",
    "    def Get_Balance(self):\n",
    "        return f\"Available balance: NGN{self.balance}\"\n",
    "        \n",
    "    def deposit(self):\n",
    "        depo = float(input('Enter deposit amount: '))\n",
    "        self.balance = self.balance + depo\n",
    "        print(f\"Account successfully updated with NGN{depo}\")\n",
    "        print(f\"Available balance: NGN{self.balance}\")\n",
    "        \n",
    "    def withdraw(self):\n",
    "        withdrawal = float(input('Enter amount: '))\n",
    "        if withdrawal > self.balance:\n",
    "            print('Insufficient funds')\n",
    "            print(f\"Available balance: NGN{self.balance}\")\n",
    "        else:\n",
    "            self.balance = self.balance - withdrawal\n",
    "            print(f\"NGN{withdrawal} withdrawal successful\")\n",
    "            print(f\"Available balance: NGN{self.balance}\")\n",
    "    \n",
    "    def transfer(self):\n",
    "        for trial in range(4):\n",
    "            if trial == 3: # Validate no of attempts\n",
    "                print('Maximum attempts reached, logging off...')\n",
    "                sys.exit()\n",
    "                \n",
    "    \n",
    "            acc_num = (input('Enter destination account number: '))\n",
    "            if len(acc_num) == 10:\n",
    "                break\n",
    "            else:\n",
    "                print('Invalid account destination')\n",
    "            \n",
    "        trans = float(input('Enter amount: '))\n",
    "        if self.balance < trans:\n",
    "            print('Insufficient funds')\n",
    "            return f\"Available balance: NGN{self.balance}\"\n",
    "            \n",
    "        else:\n",
    "            self.balance = self.balance - trans\n",
    "            print(f\"NGN{trans} transfer successful\")\n",
    "            print(f\"Available balance: NGN{self.balance}\")\n",
    "            "
   ]
  },
  {
   "cell_type": "code",
   "execution_count": null,
   "id": "912192d3",
   "metadata": {},
   "outputs": [],
   "source": []
  },
  {
   "cell_type": "code",
   "execution_count": 15,
   "id": "7a8f6974",
   "metadata": {},
   "outputs": [
    {
     "name": "stdout",
     "output_type": "stream",
     "text": [
      "Enter your account number: 0987897656\n",
      "Welcome! Please select what you would like to do:\n",
      ">>> 1. Balance\n",
      ">>> 2. Deposit\n",
      ">>> 3. Withdrawal\n",
      ">>> 4. Transfer\n",
      ">>> 5. Exit\n",
      "\n",
      "1\n",
      "Available balance: NGN0.0\n"
     ]
    },
    {
     "data": {
      "text/plain": [
       "<__main__.Bank_App at 0x240ff62f050>"
      ]
     },
     "execution_count": 15,
     "metadata": {},
     "output_type": "execute_result"
    }
   ],
   "source": [
    "user = Bank_App()\n",
    "user"
   ]
  },
  {
   "cell_type": "code",
   "execution_count": 17,
   "id": "11334696",
   "metadata": {},
   "outputs": [
    {
     "name": "stdout",
     "output_type": "stream",
     "text": [
      "Enter your account number: 0078675645\n",
      "Welcome! Please select what you would like to do:\n",
      ">>> 1. Balance\n",
      ">>> 2. Deposit\n",
      ">>> 3. Withdrawal\n",
      ">>> 4. Transfer\n",
      ">>> 5. Exit\n",
      "\n",
      "2\n",
      "Enter deposit amount: 6789000\n",
      "Account successfully updated with NGN6789000.0\n",
      "Available balance: NGN6789000.0\n"
     ]
    },
    {
     "data": {
      "text/plain": [
       "<__main__.Bank_App at 0x240ff62f050>"
      ]
     },
     "execution_count": 17,
     "metadata": {},
     "output_type": "execute_result"
    }
   ],
   "source": [
    "useruser = Bank_App()\n",
    "user"
   ]
  },
  {
   "cell_type": "code",
   "execution_count": 23,
   "id": "1484d9a5",
   "metadata": {},
   "outputs": [
    {
     "name": "stdout",
     "output_type": "stream",
     "text": [
      "Enter your account number: 000\n",
      "Welcome! Please select what you would like to do:\n",
      ">>> 1. Balance\n",
      ">>> 2. Deposit\n",
      ">>> 3. Withdrawal\n",
      ">>> 4. Transfer\n",
      ">>> 5. Exit\n",
      "\n",
      "4\n",
      "Enter destination account number: 78888\n",
      "Invalid account destination\n",
      "Enter destination account number: 1232345476\n",
      "Enter amount: 900\n",
      "Insufficient funds\n"
     ]
    }
   ],
   "source": [
    "user = Bank_App()"
   ]
  }
 ],
 "metadata": {
  "kernelspec": {
   "display_name": "Python 3 (ipykernel)",
   "language": "python",
   "name": "python3"
  },
  "language_info": {
   "codemirror_mode": {
    "name": "ipython",
    "version": 3
   },
   "file_extension": ".py",
   "mimetype": "text/x-python",
   "name": "python",
   "nbconvert_exporter": "python",
   "pygments_lexer": "ipython3",
   "version": "3.11.5"
  }
 },
 "nbformat": 4,
 "nbformat_minor": 5
}
